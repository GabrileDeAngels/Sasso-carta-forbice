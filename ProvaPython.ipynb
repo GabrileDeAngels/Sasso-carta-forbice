{
  "nbformat": 4,
  "nbformat_minor": 0,
  "metadata": {
    "colab": {
      "provenance": []
    },
    "kernelspec": {
      "name": "python3",
      "display_name": "Python 3"
    },
    "language_info": {
      "name": "python"
    }
  },
  "cells": [
    {
      "cell_type": "markdown",
      "source": [
        "Rock paper scissors game\n",
        "\n",
        "\n"
      ],
      "metadata": {
        "id": "8TzXrPeX-tDw"
      }
    },
    {
      "cell_type": "code",
      "source": [
        "import random\n",
        "\n",
        "scelta_utente_in_numeri = {\n",
        "    \"rock\" : 1,\n",
        "    \"paper\" : 2,\n",
        "    \"scissor\" : 3\n",
        "}\n",
        "\n",
        "scelta_computer = random.randint(1,3)\n",
        "\n",
        "question = input(\"You have to choose between Rock, paper or scissor \").lower()\n",
        "print(\"You have choosen\", question)\n",
        "\n",
        "scelta_numero_computer = {\n",
        "    1 : \"rock\",\n",
        "    2 : \"paper\",\n",
        "    3 : \"scissor\"\n",
        "}\n",
        "\n",
        "scelta_computer = scelta_numero_computer[scelta_computer]\n",
        "print(\"Computer has choosen\", scelta_computer)\n",
        "\n",
        "if scelta_utente_in_numeri[question] == scelta_computer:\n",
        "    print(\"It's a tie\")\n",
        "elif (scelta_utente_in_numeri[question] == 1 and scelta_computer == \"paper\") or (scelta_utente_in_numeri[question] == 2 and scelta_computer == \"scissor\") or (scelta_utente_in_numeri[question] == 3 and scelta_computer == \"rock\"):\n",
        "    print(\"You lost\")\n",
        "else:\n",
        "    print(\"You won\")\n",
        "\n"
      ],
      "metadata": {
        "colab": {
          "base_uri": "https://localhost:8080/"
        },
        "id": "xL77H6Vz-yqy",
        "outputId": "923ec409-0f58-40ec-a89c-a2dcee21be13"
      },
      "execution_count": 32,
      "outputs": [
        {
          "output_type": "stream",
          "name": "stdout",
          "text": [
            "You have to choose between Rock, paper or scissor rock\n",
            "You have choosen rock\n",
            "Computer has choosen paper\n",
            "You lost\n"
          ]
        }
      ]
    },
    {
      "cell_type": "code",
      "source": [],
      "metadata": {
        "id": "uV2wcmnIEIUP"
      },
      "execution_count": null,
      "outputs": []
    }
  ]
}